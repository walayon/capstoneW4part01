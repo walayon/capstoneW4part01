{
 "cells": [
  {
   "cell_type": "markdown",
   "metadata": {},
   "source": [
    "## 1. Description of the problem\n",
    "\n",
    "\n",
    "#####      A client friend, want to start a Venezuelan fast food restaurant in Toronto, Canada. It is a \n",
    "##### restaurant specialized in \"arepas\" that are made based on ground corn flour. \n",
    "\n",
    "#####      They are circular and flattened and once cooked, on a metal plate, they are filled with meat, chicken,\n",
    "##### cheese, ham, pork and many other things. It is part of the traditional gastronomy of Venezuela and its\n",
    "##### neighboring country Colombia.\n",
    "\n",
    "#####      Venezuelan arepas restaurants have proliferated in recent years in South America and now also in\n",
    "##### Europe, the United States and Canada. Our client want to know if Toronto would be a good idea to set up\n",
    "##### their restaurant and what would be a good location for his business in that city.\n",
    "\n",
    "\n",
    "\n"
   ]
  }
 ],
 "metadata": {
  "kernelspec": {
   "display_name": "Python 3",
   "language": "python",
   "name": "python3"
  },
  "language_info": {
   "codemirror_mode": {
    "name": "ipython",
    "version": 3
   },
   "file_extension": ".py",
   "mimetype": "text/x-python",
   "name": "python",
   "nbconvert_exporter": "python",
   "pygments_lexer": "ipython3",
   "version": "3.6.5"
  }
 },
 "nbformat": 4,
 "nbformat_minor": 2
}
